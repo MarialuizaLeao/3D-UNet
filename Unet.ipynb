{
 "cells": [
  {
   "cell_type": "code",
   "execution_count": 3,
   "metadata": {},
   "outputs": [
    {
     "ename": "ModuleNotFoundError",
     "evalue": "No module named 'import_ipynb'",
     "output_type": "error",
     "traceback": [
      "\u001b[0;31m---------------------------------------------------------------------------\u001b[0m",
      "\u001b[0;31mModuleNotFoundError\u001b[0m                       Traceback (most recent call last)",
      "\u001b[1;32m/home/marialuiza/faculdade/ic/3D-UNet/Unet.ipynb Cell 1\u001b[0m line \u001b[0;36m5\n\u001b[1;32m      <a href='vscode-notebook-cell://wsl%2Bubuntu-20.04/home/marialuiza/faculdade/ic/3D-UNet/Unet.ipynb#W0sdnNjb2RlLXJlbW90ZQ%3D%3D?line=2'>3</a>\u001b[0m \u001b[39mimport\u001b[39;00m \u001b[39mnumpy\u001b[39;00m \u001b[39mas\u001b[39;00m \u001b[39mnp\u001b[39;00m\n\u001b[1;32m      <a href='vscode-notebook-cell://wsl%2Bubuntu-20.04/home/marialuiza/faculdade/ic/3D-UNet/Unet.ipynb#W0sdnNjb2RlLXJlbW90ZQ%3D%3D?line=3'>4</a>\u001b[0m \u001b[39mfrom\u001b[39;00m \u001b[39mtorch\u001b[39;00m\u001b[39m.\u001b[39;00m\u001b[39mutils\u001b[39;00m\u001b[39m.\u001b[39;00m\u001b[39mdata\u001b[39;00m \u001b[39mimport\u001b[39;00m Dataset, DataLoader\n\u001b[0;32m----> <a href='vscode-notebook-cell://wsl%2Bubuntu-20.04/home/marialuiza/faculdade/ic/3D-UNet/Unet.ipynb#W0sdnNjb2RlLXJlbW90ZQ%3D%3D?line=4'>5</a>\u001b[0m \u001b[39mimport\u001b[39;00m \u001b[39mimport_ipynb\u001b[39;00m\n\u001b[1;32m      <a href='vscode-notebook-cell://wsl%2Bubuntu-20.04/home/marialuiza/faculdade/ic/3D-UNet/Unet.ipynb#W0sdnNjb2RlLXJlbW90ZQ%3D%3D?line=5'>6</a>\u001b[0m \u001b[39mfrom\u001b[39;00m \u001b[39mcommon\u001b[39;00m \u001b[39mimport\u001b[39;00m \u001b[39m*\u001b[39m\n",
      "\u001b[0;31mModuleNotFoundError\u001b[0m: No module named 'import_ipynb'"
     ]
    }
   ],
   "source": [
    "import torch\n",
    "import torch.nn as nn\n",
    "import numpy as np\n",
    "from torch.utils.data import Dataset, DataLoader"
   ]
  },
  {
   "cell_type": "code",
   "execution_count": 39,
   "metadata": {},
   "outputs": [],
   "source": [
    "class DoubleConvolution(nn.Module):\n",
    "    \"\"\"\n",
    "    Auxiliary class to define a convolutional layer.\n",
    "    Each convolution block: 3x3 convolution, batch normalization, ReLU activation.\n",
    "\n",
    "    Args:\n",
    "        nn.Module : receive the nn.Module properties\n",
    "    \"\"\"\n",
    "    def __init__(self, in_channels : int, out_channels : int) -> None:\n",
    "        \"\"\"\n",
    "        Args:\n",
    "            in_channels (int): amount of input channels (16 or 32 or 64 or 128)\n",
    "            out_channels (int): amount of output channels (16 or 32 or 64 or 128)\n",
    "        \"\"\" \n",
    "        super(DoubleConvolution, self).__init__()\n",
    "        \n",
    "        self.doubleConv = nn.Sequential(\n",
    "            nn.Conv3d(in_channels, out_channels, kernel_size = 3, padding=1),\n",
    "            nn.BatchNorm3d(out_channels), \n",
    "            nn.ReLU(inplace=True),\n",
    "            \n",
    "            nn.Conv3d(out_channels, out_channels, kernel_size = 3, padding=1),\n",
    "            nn.BatchNorm3d(out_channels), \n",
    "            nn.ReLU(inplace=True)\n",
    "        )\n",
    "        \n",
    "    def forward(self, x : torch.Tensor) -> torch.Tensor:\n",
    "        \"\"\"\n",
    "        Args:\n",
    "            x (torch.Tensor): input tensor\n",
    "\n",
    "        Returns:\n",
    "            torch.Tensor: output tensor\n",
    "        \"\"\"\n",
    "        return self.doubleConv(x)"
   ]
  },
  {
   "cell_type": "code",
   "execution_count": 51,
   "metadata": {},
   "outputs": [],
   "source": [
    "class SE(nn.Module):\n",
    "    \"\"\"\n",
    "    Auxiliary class to define a squeeze and excitation layer.\n",
    "\n",
    "    Args:\n",
    "        nn.Module: receive the nn.Module properties\n",
    "    \"\"\"\n",
    "    def __init__(self, in_channels : int) -> None:\n",
    "        \"\"\"\n",
    "        Args:\n",
    "            in_channels (int): amount of input channels (16 or 32 or 64 or 128)\n",
    "        \"\"\"        \n",
    "        super(SE, self).__init__()\n",
    "        \n",
    "        self.squeeze = nn.AdaptiveAvgPool3d(1) # Global Average Pooling\n",
    "        self.excitation = nn.Sequential(\n",
    "            nn.Linear(in_channels, in_channels // 8), # Reduction ratio = 8\n",
    "            nn.ReLU(inplace=True), # ReLU activation\n",
    "            nn.Linear(in_channels // 8, in_channels), # Increase ratio = 8\n",
    "            nn.Sigmoid() # Sigmoid activation\n",
    "        )\n",
    "        \n",
    "    def forward(self, x : torch.Tensor) -> torch.Tensor:\n",
    "        \"\"\"\n",
    "        Args:\n",
    "            x (torch.Tensor): input tensor\n",
    "\n",
    "        Returns:\n",
    "            torch.Tensor: output tensor\n",
    "        \"\"\"        \n",
    "        batch_size, channels, _, _, _ = x.size()\n",
    "        y = self.squeeze(x).view(batch_size, channels)\n",
    "        y = self.excitation(y).view(batch_size, channels, 1, 1, 1)\n",
    "        return x * y.expand_as(x)"
   ]
  },
  {
   "cell_type": "code",
   "execution_count": 41,
   "metadata": {},
   "outputs": [],
   "source": [
    "class DownSampling(nn.Module):\n",
    "    \"\"\"\n",
    "    Auxiliary class to define a downsampling layer.\n",
    "    Each downsampling block: 2x2 max pooling, double convolution and squeeze and excitation.\n",
    "    input X output: [1, 16, 128, 128, 128] ->  [1, 32, 64, 64, 64] \n",
    "                    [1, 32, 64, 64, 64]    ->  [1, 64, 32, 32, 32]\n",
    "                    [1, 64, 32, 32, 32]    ->  [1, 128, 16, 16, 16]\n",
    "\n",
    "    Args:\n",
    "        nn.Module: receive the nn.Module properties\n",
    "    \"\"\"\n",
    "    def __init__(self, in_channels : int, out_channels : int) -> None:\n",
    "        \"\"\"\n",
    "        Args:\n",
    "            in_channels (int): amount of input channels (16 or 32 or 64)\n",
    "            out_channels (int): amount of output channels (32 or 64 or 128)\n",
    "        \"\"\"        \n",
    "        super(DownSampling, self).__init__()\n",
    "        \n",
    "        self.maxpool = nn.MaxPool3d(2)\n",
    "        self.conv = DoubleConvolution(in_channels, out_channels)\n",
    "        self.attention = SE(out_channels)\n",
    "        \n",
    "    def forward(self, x : torch.Tensor) -> torch.Tensor:\n",
    "        \"\"\"\n",
    "        Args:\n",
    "            x (torch.Tensor): _description_\n",
    "\n",
    "        Returns:\n",
    "            torch.Tensor: _description_\n",
    "        \"\"\"\n",
    "        out = self.maxpool(x) # 2x2 max pooling -> 1/2 the size but same amount of channels\n",
    "        out = self.conv(out) # double convolution -> same size but double the amount of channels\n",
    "        out = self.attention(out) # squeeze and excitation\n",
    "        return out"
   ]
  },
  {
   "cell_type": "code",
   "execution_count": 42,
   "metadata": {},
   "outputs": [],
   "source": [
    "class UpSampling(nn.Module):\n",
    "    \"\"\"\n",
    "    Auxiliary class to define a upsampling layer.\n",
    "    Each upsampling block: 2x2 upsampling, concatenation with skip connection, double convolution.\n",
    "    input X output: [1, 128, 16, 16, 16] ->  [1, 64, 32, 32, 32]\n",
    "                    [1, 64, 32, 32, 32]    ->  [1, 32, 64, 64, 64]\n",
    "                    [1, 32, 64, 64, 64]    ->  [1, 16, 128, 128, 128]\n",
    "                    \n",
    "    Args:\n",
    "        nn.Module: receive the nn.Module properties\n",
    "    \"\"\"\n",
    "    def __init__(self, in_channels: int, out_channels: int, bilinear: bool = False) -> None:\n",
    "        \"\"\"\n",
    "        Args:\n",
    "            in_channels (int): amount of input channels (128 or 64 or 32)\n",
    "            out_channels (int): amount of output channels (64 or 32 or 16)\n",
    "        \"\"\"\n",
    "        super(UpSampling, self).__init__()\n",
    "        \n",
    "        self.up = nn.ConvTranspose3d(in_channels, in_channels, kernel_size=2, stride=2)\n",
    "        self.conv = DoubleConvolution(int(in_channels + out_channels), out_channels)\n",
    "        \n",
    "    def forward(self, x : torch.Tensor, skip_connection : torch.Tensor) -> torch.Tensor:\n",
    "        \"\"\"\n",
    "        Args:\n",
    "            x (torch.Tensor): the input tensor\n",
    "            skip_connection (torch.Tensor): the skip connection from the downsampling path\n",
    "\n",
    "        Returns:\n",
    "            torch.Tensor: the output tensor\n",
    "        \"\"\"\n",
    "        x = self.up(x) # 2x2 upsampling -> double the size but same amount of channels\n",
    "        x = torch.cat([skip_connection, x], dim=1) # concatenation with skip connection\n",
    "        out = self.conv(x) # double convolution -> same size but half the amount of channels\n",
    "        return out\n",
    "        "
   ]
  },
  {
   "cell_type": "code",
   "execution_count": 43,
   "metadata": {},
   "outputs": [],
   "source": [
    "class Unet(nn.Module):\n",
    "    def __init__(self) -> None:\n",
    "        \"\"\"\n",
    "        nn.Module: receive the nn.Module properties\n",
    "        The input must have shape -> [1, 1, 128, 128, 128]\n",
    "        The output shape will be -> [1, 1, 128, 128, 128]\n",
    "        \"\"\"\n",
    "        super(Unet, self).__init__()\n",
    "        in_channels = 1\n",
    "        out_channels = 1\n",
    "        \n",
    "        self.input = nn.Sequential(DoubleConvolution(in_channels, 16), SE(16)) # tranform the input to 16 channels and apply squeeze and excitation\n",
    "        # encoding path\n",
    "        self.down1 = DownSampling(16, 32) \n",
    "        self.down2 = DownSampling(32, 64) \n",
    "        self.down3 = DownSampling(64, 128)\n",
    "        # decoding path\n",
    "        self.up1 = UpSampling(128, 64)\n",
    "        self.up2 = UpSampling(64, 32)\n",
    "        self.up3 = UpSampling(32, 16)\n",
    "        self.output = nn.Sequential(nn.Conv3d(16, out_channels, kernel_size=1), nn.Sigmoid()) # transform the output to 1 channel and apply sigmoid activation\n",
    "    \n",
    "    def forward(self, x : torch.Tensor) -> torch.Tensor:\n",
    "        \"\"\"\n",
    "        Args:\n",
    "            x (torch.Tensor): a tensor with shape [1, 1, 128, 128, 128]\n",
    "\n",
    "        Returns:\n",
    "            torch.Tensor: a tensor with shape [1, 1, 128, 128, 128]\n",
    "        \"\"\"\n",
    "        input = self.input(x) # [1, 1, 128, 128, 128] -> [1, 16, 128, 128, 128]\n",
    "        down1_output = self.down1(input)# [1, 16, 128, 128, 128] ->[1, 32, 64, 64, 64]\n",
    "        down2_output = self.down2(down1_output) # [1, 32, 64, 64, 64] -> [1, 64, 32, 32, 32]\n",
    "        down3_output = self.down3(down2_output) # [1, 64, 32, 32, 32] -> [1, 128, 16, 16, 16]\n",
    "        out = self.up1(down3_output, down2_output) # [1, 128, 16, 16, 16] -> [1, 64, 32, 32, 32]\n",
    "        out = self.up2(out, down1_output) # [1, 64, 32, 32, 32] -> [1, 32, 64, 64, 64]\n",
    "        out = self.up3(out, input) # [1, 32, 64, 64, 64] -> [1, 16, 128, 128, 128]\n",
    "        out = self.output(out) # [1, 16, 128, 128, 128] -> [1, 1, 128, 128, 128]\n",
    "        return out\n",
    "        \n",
    "    "
   ]
  },
  {
   "cell_type": "code",
   "execution_count": 48,
   "metadata": {},
   "outputs": [],
   "source": [
    "model = Unet()"
   ]
  },
  {
   "cell_type": "code",
   "execution_count": 49,
   "metadata": {},
   "outputs": [],
   "source": [
    "x = torch.ones((1, 1, 128, 128, 128))"
   ]
  },
  {
   "cell_type": "code",
   "execution_count": 50,
   "metadata": {},
   "outputs": [
    {
     "data": {
      "text/plain": [
       "4094"
      ]
     },
     "execution_count": 50,
     "metadata": {},
     "output_type": "execute_result"
    }
   ],
   "source": [
    "sum(p.numel() for p in model.parameters()) - 1634865"
   ]
  }
 ],
 "metadata": {
  "kernelspec": {
   "display_name": "Python 3",
   "language": "python",
   "name": "python3"
  },
  "language_info": {
   "codemirror_mode": {
    "name": "ipython",
    "version": 3
   },
   "file_extension": ".py",
   "mimetype": "text/x-python",
   "name": "python",
   "nbconvert_exporter": "python",
   "pygments_lexer": "ipython3",
   "version": "3.8.10"
  }
 },
 "nbformat": 4,
 "nbformat_minor": 2
}

{
 "cells": [
  {
   "cell_type": "code",
   "execution_count": 123,
   "metadata": {},
   "outputs": [],
   "source": [
    "import torch\n",
    "import torch.nn as nn\n",
    "import numpy as np\n",
    "from torch.utils.data import Dataset, DataLoader"
   ]
  },
  {
   "cell_type": "code",
   "execution_count": 124,
   "metadata": {},
   "outputs": [],
   "source": [
    "class SingleConvolution(nn.Module):\n",
    "    \"\"\"\n",
    "    Auxiliary class to define a convolutional layer.\n",
    "    Each convolution block: convolution, batch normalization, ReLU activation.\n",
    "\n",
    "    Args:\n",
    "        nn.Module : receive the nn.Module properties\n",
    "    \"\"\"\n",
    "    def __init__(self, in_channels : int, out_channels : int, kernel_size: int, stride: int, padding: int, bias: bool) -> None:\n",
    "        \"\"\"\n",
    "        Args:\n",
    "            in_channels (int): amount of input channels\n",
    "            out_channels (int): amount of output channels\n",
    "        \"\"\" \n",
    "        super(SingleConvolution, self).__init__()\n",
    "        \n",
    "        self.singleConv = nn.Sequential(\n",
    "            nn.Conv3d(in_channels, out_channels, kernel_size, stride, padding, bias),\n",
    "            nn.BatchNorm3d(out_channels), \n",
    "            nn.ReLU(inplace=True),\n",
    "        )\n",
    "        \n",
    "    def forward(self, x : torch.Tensor) -> torch.Tensor:\n",
    "        \"\"\"\n",
    "        Args:\n",
    "            x (torch.Tensor): input tensor\n",
    "\n",
    "        Returns:\n",
    "            torch.Tensor: output tensor\n",
    "        \"\"\"\n",
    "        return self.singleConv(x)"
   ]
  },
  {
   "cell_type": "code",
   "execution_count": 125,
   "metadata": {},
   "outputs": [],
   "source": [
    "class ChannelGate(nn.Module): # C x 1 x 1\n",
    "    def __init__(self, in_channels: int, reduction_ratio: int = 16):\n",
    "        \n",
    "        super(ChannelGate, self).__init__()\n",
    "        \n",
    "        self.in_channels = in_channels\n",
    "        self.reduction_ratio = reduction_ratio\n",
    "        \n",
    "        self.squeezeAvg = nn.AdaptiveAvgPool3d(1) # Global Average Pooling\n",
    "        self.squeezeMax = nn.AdaptiveMaxPool3d(1) # Global Max Pooling\n",
    "        self.excitation = nn.Sequential(\n",
    "            nn.Linear(self.in_channels, self.in_channels // self.reduction_ratio),\n",
    "            nn.ReLU(inplace=True), # ReLU activation\n",
    "            nn.Linear(self.in_channels // self.reduction_ratio, self.in_channels),\n",
    "        )\n",
    "        self.sigActivation = nn.Sigmoid()\n",
    "        \n",
    "    def forward(self, x):\n",
    "        \n",
    "        batch_size, channels, _, _, _ = x.size()\n",
    "        \n",
    "        yAvg = self.squeezeAvg(x).view(batch_size, channels)\n",
    "        yAvg = self.excitation(yAvg).view(batch_size, channels, 1, 1, 1)\n",
    "        \n",
    "        yMax = self.squeezeMax(x).view(batch_size, channels)\n",
    "        yMax = self.excitation(yMax).view(batch_size, channels, 1, 1, 1)\n",
    "        \n",
    "        sum = yAvg + yMax\n",
    "        \n",
    "        return self.sigActivation(sum) * x"
   ]
  },
  {
   "cell_type": "code",
   "execution_count": 129,
   "metadata": {},
   "outputs": [],
   "source": [
    "class SpatialGate(nn.Module): # 1 x H x W\n",
    "    def __init__(self, in_channels: int, kernel_size: int = 7, padding: int = 3, bias: bool = False):\n",
    "        \n",
    "        super(SpatialGate, self).__init__()\n",
    "        \n",
    "        self.kernel_size = kernel_size\n",
    "        self.in_channels = in_channels\n",
    "        self.padding = padding\n",
    "        self.bias = bias\n",
    "        \n",
    "        self.squeezeAvg = nn.AdaptiveAvgPool3d(1)\n",
    "        self.squeezeMax = nn.AdaptiveMaxPool3d(1)\n",
    "        self.spatial = SingleConvolution(2 * self.in_channels, self.in_channels, self.kernel_size, 1, kernel_size // 2 , self.bias)\n",
    "        self.sigActivation = nn.Sigmoid()\n",
    "        \n",
    "    def forward(self, x):\n",
    "        \n",
    "        yAvg = self.squeezeAvg(x)\n",
    "        yMax = self.squeezeMax(x)\n",
    "        y = torch.cat([yAvg, yMax], dim=1)\n",
    "        y = self.spatial(y)\n",
    "        \n",
    "        return self.sigActivation(sum) * x"
   ]
  },
  {
   "cell_type": "code",
   "execution_count": 130,
   "metadata": {},
   "outputs": [],
   "source": [
    "class CBAM(nn.Module):\n",
    "    def __init__(self, in_channels, reduction_ratio = 16, kernel_size: int = 7):\n",
    "        \n",
    "        super(CBAM, self).__init__()\n",
    "        \n",
    "        self.ChannelGate = ChannelGate(in_channels, reduction_ratio)\n",
    "        self.SpatialGate = SpatialGate(in_channels, kernel_size, kernel_size // 2, False)\n",
    "        \n",
    "    def forward(self, x):\n",
    "        \n",
    "        x_out = self.ChannelGate(x)\n",
    "        x_out = self.SpatialGate(x_out)\n",
    "        \n",
    "        return x_out * x"
   ]
  },
  {
   "cell_type": "code",
   "execution_count": 131,
   "metadata": {},
   "outputs": [
    {
     "ename": "TypeError",
     "evalue": "__init__() missing 1 required positional argument: 'bias'",
     "output_type": "error",
     "traceback": [
      "\u001b[0;31m---------------------------------------------------------------------------\u001b[0m",
      "\u001b[0;31mTypeError\u001b[0m                                 Traceback (most recent call last)",
      "\u001b[1;32m/home/marialuiza/faculdade/ic/3D-UNet/CBAM.ipynb Cell 6\u001b[0m line \u001b[0;36m1\n\u001b[0;32m----> <a href='vscode-notebook-cell://wsl%2Bubuntu-20.04/home/marialuiza/faculdade/ic/3D-UNet/CBAM.ipynb#X11sdnNjb2RlLXJlbW90ZQ%3D%3D?line=0'>1</a>\u001b[0m model \u001b[39m=\u001b[39m CBAM(\u001b[39m16\u001b[39;49m)\n",
      "\u001b[1;32m/home/marialuiza/faculdade/ic/3D-UNet/CBAM.ipynb Cell 6\u001b[0m line \u001b[0;36m7\n\u001b[1;32m      <a href='vscode-notebook-cell://wsl%2Bubuntu-20.04/home/marialuiza/faculdade/ic/3D-UNet/CBAM.ipynb#X11sdnNjb2RlLXJlbW90ZQ%3D%3D?line=3'>4</a>\u001b[0m \u001b[39msuper\u001b[39m(CBAM, \u001b[39mself\u001b[39m)\u001b[39m.\u001b[39m\u001b[39m__init__\u001b[39m()\n\u001b[1;32m      <a href='vscode-notebook-cell://wsl%2Bubuntu-20.04/home/marialuiza/faculdade/ic/3D-UNet/CBAM.ipynb#X11sdnNjb2RlLXJlbW90ZQ%3D%3D?line=5'>6</a>\u001b[0m \u001b[39mself\u001b[39m\u001b[39m.\u001b[39mChannelGate \u001b[39m=\u001b[39m ChannelGate(in_channels, reduction_ratio)\n\u001b[0;32m----> <a href='vscode-notebook-cell://wsl%2Bubuntu-20.04/home/marialuiza/faculdade/ic/3D-UNet/CBAM.ipynb#X11sdnNjb2RlLXJlbW90ZQ%3D%3D?line=6'>7</a>\u001b[0m \u001b[39mself\u001b[39m\u001b[39m.\u001b[39mSpatialGate \u001b[39m=\u001b[39m SpatialGate(in_channels, kernel_size, kernel_size \u001b[39m/\u001b[39;49m\u001b[39m/\u001b[39;49m \u001b[39m2\u001b[39;49m, \u001b[39mFalse\u001b[39;49;00m)\n",
      "\u001b[1;32m/home/marialuiza/faculdade/ic/3D-UNet/CBAM.ipynb Cell 6\u001b[0m line \u001b[0;36m1\n\u001b[1;32m     <a href='vscode-notebook-cell://wsl%2Bubuntu-20.04/home/marialuiza/faculdade/ic/3D-UNet/CBAM.ipynb#X11sdnNjb2RlLXJlbW90ZQ%3D%3D?line=10'>11</a>\u001b[0m \u001b[39mself\u001b[39m\u001b[39m.\u001b[39msqueezeAvg \u001b[39m=\u001b[39m nn\u001b[39m.\u001b[39mAdaptiveAvgPool3d(\u001b[39m1\u001b[39m)\n\u001b[1;32m     <a href='vscode-notebook-cell://wsl%2Bubuntu-20.04/home/marialuiza/faculdade/ic/3D-UNet/CBAM.ipynb#X11sdnNjb2RlLXJlbW90ZQ%3D%3D?line=11'>12</a>\u001b[0m \u001b[39mself\u001b[39m\u001b[39m.\u001b[39msqueezeMax \u001b[39m=\u001b[39m nn\u001b[39m.\u001b[39mAdaptiveMaxPool3d(\u001b[39m1\u001b[39m)\n\u001b[0;32m---> <a href='vscode-notebook-cell://wsl%2Bubuntu-20.04/home/marialuiza/faculdade/ic/3D-UNet/CBAM.ipynb#X11sdnNjb2RlLXJlbW90ZQ%3D%3D?line=12'>13</a>\u001b[0m \u001b[39mself\u001b[39m\u001b[39m.\u001b[39mspatial \u001b[39m=\u001b[39m SingleConvolution(\u001b[39m2\u001b[39;49m \u001b[39m*\u001b[39;49m \u001b[39mself\u001b[39;49m\u001b[39m.\u001b[39;49min_channels, \u001b[39mself\u001b[39;49m\u001b[39m.\u001b[39;49min_channels, \u001b[39mself\u001b[39;49m\u001b[39m.\u001b[39;49mkernel_size, \u001b[39m1\u001b[39;49m , \u001b[39mself\u001b[39;49m\u001b[39m.\u001b[39;49mbias)\n\u001b[1;32m     <a href='vscode-notebook-cell://wsl%2Bubuntu-20.04/home/marialuiza/faculdade/ic/3D-UNet/CBAM.ipynb#X11sdnNjb2RlLXJlbW90ZQ%3D%3D?line=13'>14</a>\u001b[0m \u001b[39mself\u001b[39m\u001b[39m.\u001b[39msigActivation \u001b[39m=\u001b[39m nn\u001b[39m.\u001b[39mSigmoid()\n",
      "\u001b[0;31mTypeError\u001b[0m: __init__() missing 1 required positional argument: 'bias'"
     ]
    }
   ],
   "source": [
    "model = CBAM(16)"
   ]
  },
  {
   "cell_type": "code",
   "execution_count": 117,
   "metadata": {},
   "outputs": [],
   "source": [
    "x = torch.ones((1, 1, 128, 128, 128))\n",
    "conv = nn.Conv3d(1, 16, kernel_size=3, padding=1)"
   ]
  },
  {
   "cell_type": "code",
   "execution_count": 118,
   "metadata": {},
   "outputs": [],
   "source": [
    "teste = conv(x)"
   ]
  },
  {
   "cell_type": "code",
   "execution_count": 119,
   "metadata": {},
   "outputs": [
    {
     "data": {
      "text/plain": [
       "torch.Size([1, 16, 128, 128, 128])"
      ]
     },
     "execution_count": 119,
     "metadata": {},
     "output_type": "execute_result"
    }
   ],
   "source": [
    "teste.shape"
   ]
  },
  {
   "cell_type": "code",
   "execution_count": 120,
   "metadata": {},
   "outputs": [
    {
     "name": "stdout",
     "output_type": "stream",
     "text": [
      "torch.Size([1, 16, 1, 1, 1])\n",
      "torch.Size([1, 16, 1, 1, 1])\n",
      "torch.Size([1, 32, 1, 1, 1])\n",
      "torch.Size([1, 16, 1, 1, 1])\n",
      "torch.Size([1, 16, 1, 1, 1])\n",
      "torch.Size([1, 16, 128, 128, 128])\n"
     ]
    }
   ],
   "source": [
    "with torch.no_grad():\n",
    "    model.eval()\n",
    "    s = model(teste).shape\n",
    "print(s)"
   ]
  }
 ],
 "metadata": {
  "kernelspec": {
   "display_name": "Python 3",
   "language": "python",
   "name": "python3"
  },
  "language_info": {
   "codemirror_mode": {
    "name": "ipython",
    "version": 3
   },
   "file_extension": ".py",
   "mimetype": "text/x-python",
   "name": "python",
   "nbconvert_exporter": "python",
   "pygments_lexer": "ipython3",
   "version": "3.8.10"
  }
 },
 "nbformat": 4,
 "nbformat_minor": 2
}
